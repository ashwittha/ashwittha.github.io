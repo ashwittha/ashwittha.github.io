{
 "cells": [
  {
   "cell_type": "markdown",
   "id": "3da3400a",
   "metadata": {},
   "source": [
    "**Final Tutorial by Arunima Arun and Ashwittha Ganesan**"
   ]
  },
  {
   "cell_type": "markdown",
   "id": "c7da3e26",
   "metadata": {},
   "source": [
    "**Introduction**:  \n",
    "\n",
    "In this project, we want to analyze how different factors (such as age, insurance contractor's sex, BMI, number of children covered by insurance, beneficiary's residential region and whether an individual smokes) affect a primary beneficiary's individual medical charges billed by their health insurance."
   ]
  },
  {
   "cell_type": "markdown",
   "id": "0ccd1fdb",
   "metadata": {},
   "source": [
    "**Background**: \n",
    "\n",
    "Households in the United States spend an average of 8.1 percent of their yearly income on healthcare insurance according to a 2018 study conducted by the Bureau of Labor Statistics. https://www.bls.gov/opub/btn/volume-9/how-have-healthcare-expenditures-changed-evidence-from-the-consumer-expenditure-surveys.htm\n",
    "\n",
    "Since Americans spend a large portion of their income on health insurance, we want to understand what factors influence how much an individual spends on medical charges. Therefore, we are using data collected from the book \"Machine Learning with R\" by Brett Lantz to conduct an analysis which we found on this website https://www.kaggle.com/mirichoi0218/insurance. This data includes insurance information of a random sample of 1338 primary beneficiaries."
   ]
  },
  {
   "cell_type": "markdown",
   "id": "2132ca56",
   "metadata": {},
   "source": [
    "**Table of Contents**:"
   ]
  },
  {
   "cell_type": "code",
   "execution_count": 23,
   "id": "2a47da3b",
   "metadata": {},
   "outputs": [],
   "source": [
    "import numpy as np\n",
    "import pandas as pd\n",
    "import matplotlib.pyplot as plt\n",
    "import seaborn as sns\n",
    "import sklearn\n",
    "from sklearn.linear_model import LinearRegression\n",
    "import statsmodels.api as sm\n"
   ]
  },
  {
   "cell_type": "markdown",
   "id": "97082545",
   "metadata": {},
   "source": [
    "**Getting our Data**:\n",
    "\n",
    "First, we need to read in our data from the CSV file and store it into a dataframe."
   ]
  },
  {
   "cell_type": "code",
   "execution_count": 24,
   "id": "d5762579",
   "metadata": {},
   "outputs": [
    {
     "data": {
      "text/html": [
       "<div>\n",
       "<style scoped>\n",
       "    .dataframe tbody tr th:only-of-type {\n",
       "        vertical-align: middle;\n",
       "    }\n",
       "\n",
       "    .dataframe tbody tr th {\n",
       "        vertical-align: top;\n",
       "    }\n",
       "\n",
       "    .dataframe thead th {\n",
       "        text-align: right;\n",
       "    }\n",
       "</style>\n",
       "<table border=\"1\" class=\"dataframe\">\n",
       "  <thead>\n",
       "    <tr style=\"text-align: right;\">\n",
       "      <th></th>\n",
       "      <th>age</th>\n",
       "      <th>sex</th>\n",
       "      <th>bmi</th>\n",
       "      <th>children</th>\n",
       "      <th>smoker</th>\n",
       "      <th>region</th>\n",
       "      <th>charges</th>\n",
       "    </tr>\n",
       "  </thead>\n",
       "  <tbody>\n",
       "    <tr>\n",
       "      <th>0</th>\n",
       "      <td>19</td>\n",
       "      <td>female</td>\n",
       "      <td>27.900</td>\n",
       "      <td>0</td>\n",
       "      <td>yes</td>\n",
       "      <td>southwest</td>\n",
       "      <td>16884.92400</td>\n",
       "    </tr>\n",
       "    <tr>\n",
       "      <th>1</th>\n",
       "      <td>18</td>\n",
       "      <td>male</td>\n",
       "      <td>33.770</td>\n",
       "      <td>1</td>\n",
       "      <td>no</td>\n",
       "      <td>southeast</td>\n",
       "      <td>1725.55230</td>\n",
       "    </tr>\n",
       "    <tr>\n",
       "      <th>2</th>\n",
       "      <td>28</td>\n",
       "      <td>male</td>\n",
       "      <td>33.000</td>\n",
       "      <td>3</td>\n",
       "      <td>no</td>\n",
       "      <td>southeast</td>\n",
       "      <td>4449.46200</td>\n",
       "    </tr>\n",
       "    <tr>\n",
       "      <th>3</th>\n",
       "      <td>33</td>\n",
       "      <td>male</td>\n",
       "      <td>22.705</td>\n",
       "      <td>0</td>\n",
       "      <td>no</td>\n",
       "      <td>northwest</td>\n",
       "      <td>21984.47061</td>\n",
       "    </tr>\n",
       "    <tr>\n",
       "      <th>4</th>\n",
       "      <td>32</td>\n",
       "      <td>male</td>\n",
       "      <td>28.880</td>\n",
       "      <td>0</td>\n",
       "      <td>no</td>\n",
       "      <td>northwest</td>\n",
       "      <td>3866.85520</td>\n",
       "    </tr>\n",
       "  </tbody>\n",
       "</table>\n",
       "</div>"
      ],
      "text/plain": [
       "   age     sex     bmi  children smoker     region      charges\n",
       "0   19  female  27.900         0    yes  southwest  16884.92400\n",
       "1   18    male  33.770         1     no  southeast   1725.55230\n",
       "2   28    male  33.000         3     no  southeast   4449.46200\n",
       "3   33    male  22.705         0     no  northwest  21984.47061\n",
       "4   32    male  28.880         0     no  northwest   3866.85520"
      ]
     },
     "execution_count": 24,
     "metadata": {},
     "output_type": "execute_result"
    }
   ],
   "source": [
    "url = 'https://www.kaggle.com/mirichoi0218/insurance?select=insurance'\n",
    "df = pd.read_csv('insurance.csv')\n",
    "df.head()"
   ]
  },
  {
   "cell_type": "markdown",
   "id": "7d316f36",
   "metadata": {},
   "source": [
    "**Relationship between Age and Medical Charges**\n",
    "\n",
    "First, let's do some analysis on the relationship between age and medical charges. \n",
    "  Our age groups will be: \n",
    "- (18-24)\n",
    "- (25-34)\n",
    "- (35-44)\n",
    "- (45-54)\n",
    "- (55-64)"
   ]
  },
  {
   "cell_type": "code",
   "execution_count": 25,
   "id": "681a2d21",
   "metadata": {},
   "outputs": [],
   "source": [
    "#aray that stores all the ages so that we can get an idea of how to divide our age groups \n",
    "age_array = []\n",
    "for index, row in df.iterrows():\n",
    "    if row['age'] not in age_array:\n",
    "        age_array.append(row['age'])\n",
    "\n",
    "age_array.sort()\n",
    "\n",
    "#creates a new column in the df that keeps track of the age category \n",
    "df['age_category'] = ''\n",
    "\n",
    "#iterates through the dataframe and adds the age category based on the age of the patient \n",
    "for index, row in df.iterrows():\n",
    "    age = row['age']\n",
    "    if age in range(18, 25):\n",
    "        df.iat[index, 7] = \"18-24\"\n",
    "    if age in range(25, 35):\n",
    "        df.iat[index, 7] = \"25-34\"\n",
    "    if age in range(35, 45):\n",
    "        df.iat[index, 7] = \"35-44\"\n",
    "    if age in range(45, 55):\n",
    "        df.iat[index, 7] = \"45-54\"\n",
    "    if age in range(55, 65):\n",
    "        df.iat[index, 7] = \"55-64\"\n",
    "\n",
    "\n",
    "#creates a dataframe to store information of patients in age category (18-24)\n",
    "df_age_18_24 = pd.DataFrame()\n",
    "\n",
    "#creates a dataframe to store information of patients in age category (25-34)\n",
    "df_age_25_34 = pd.DataFrame()\n",
    "\n",
    "#creates a dataframe to store information of patients in age category (35-44)\n",
    "df_age_35_44 = pd.DataFrame()\n",
    "\n",
    "#creates a dataframe to store information of patients in age category (45-54)\n",
    "df_age_45_54 = pd.DataFrame()\n",
    "\n",
    "#creates a dataframe to store information of patients in age category (55-64)\n",
    "df_age_55_64 = pd.DataFrame()\n",
    "\n",
    "\n",
    "\n",
    "for index, row in df.iterrows():\n",
    "    age_category = row['age_category']\n",
    "    \n",
    "    #stores information of patients in age category (18-24) into the new dataframe \n",
    "    df_age_18_24 = df[df.age_category == \"18-24\"]\n",
    "    \n",
    "    #stores information of patients in age category (25-34) into the new dataframe \n",
    "    df_age_25_34 = df[df.age_category == \"25-34\"]\n",
    "    \n",
    "    #stores information of patients in age category (35-44) into the new dataframe\n",
    "    df_age_35_44 = df[df.age_category == \"35-44\"]\n",
    "    \n",
    "    #stores information of patients in age category (45-54) into the new dataframe\n",
    "    df_age_45_54 = df[df.age_category == \"45-54\"]\n",
    "    \n",
    "    #stores information of patients in age category (55-64) into the new dataframe\n",
    "    df_age_55_64 = df[df.age_category == \"55-64\"]\n",
    "        \n",
    "\n",
    "\n"
   ]
  },
  {
   "cell_type": "code",
   "execution_count": 4,
   "id": "0b861807",
   "metadata": {},
   "outputs": [
    {
     "data": {
      "image/png": "[encoded data removed]",
      "text/plain": [
       "<Figure size 432x288 with 1 Axes>"
      ]
     },
     "metadata": {
      "needs_background": "light"
     },
     "output_type": "display_data"
    },
    {
     "data": {
      "image/png": "[encoded data removed]",
      "text/plain": [
       "<Figure size 432x288 with 1 Axes>"
      ]
     },
     "metadata": {
      "needs_background": "light"
     },
     "output_type": "display_data"
    },
    {
     "data": {
      "image/png": "[encoded data removed]",
      "text/plain": [
       "<Figure size 432x288 with 1 Axes>"
      ]
     },
     "metadata": {
      "needs_background": "light"
     },
     "output_type": "display_data"
    },
    {
     "data": {
      "image/png": "[encoded data removed]",
      "text/plain": [
       "<Figure size 432x288 with 1 Axes>"
      ]
     },
     "metadata": {
      "needs_background": "light"
     },
     "output_type": "display_data"
    },
    {
     "data": {
      "image/png": "[encoded data removed]",
      "text/plain": [
       "<Figure size 432x288 with 1 Axes>"
      ]
     },
     "metadata": {
      "needs_background": "light"
     },
     "output_type": "display_data"
    }
   ],
   "source": [
    "#CREATES SCATTER PLOT WITH REGRESSION LINE FOR AGES 18-24\n",
    "#the X contains the values of the age column and the Y contains the values of the charges column \n",
    "X = df_age_18_24[[\"age\"]]\n",
    "Y = df_age_18_24[[\"charges\"]]\n",
    "\n",
    "#creates regression line for X and Y\n",
    "regressor = LinearRegression().fit(X, Y)\n",
    "\n",
    "#plots the values X and Y values, including the regression line\n",
    "plt.title(\"Relationship between Age and Medical Charges in Age Group 18-24\")\n",
    "plt.xlabel(\"age\")\n",
    "plt.ylabel(\"medical charges in dollars\")\n",
    "plt.scatter(X, Y, color = 'red')\n",
    "plt.plot(X, regressor.predict(X), color = 'blue', linewidth = 1)\n",
    "plt.show()\n",
    "\n",
    "\n",
    "\n",
    "#CREATES SCATTER PLOT WITH REGRESSION LINE FOR AGES 25-34\n",
    "#the X contains the values of the age column and the Y contains the values of the charges column \n",
    "X = df_age_25_34[[\"age\"]]\n",
    "Y = df_age_25_34[[\"charges\"]]\n",
    "\n",
    "#creates regression line for X and Y\n",
    "regressor = LinearRegression().fit(X, Y)\n",
    "\n",
    "#plots the values X and Y values, including the regression line\n",
    "plt.title(\"Relationship between Age and Medical Charges in Age Group 25-34\")\n",
    "plt.xlabel(\"age\")\n",
    "plt.ylabel(\"medical charges in dollars\")\n",
    "plt.scatter(X, Y, color = 'orange')\n",
    "plt.plot(X, regressor.predict(X), color = 'blue', linewidth = 1)\n",
    "plt.show()\n",
    "\n",
    "\n",
    "\n",
    "#CREATES SCATTER PLOT WITH REGRESSION LINE FOR AGES 35-44\n",
    "#the X contains the values of the age column and the Y contains the values of the charges column \n",
    "X = df_age_35_44[[\"age\"]]\n",
    "Y = df_age_35_44[[\"charges\"]]\n",
    "\n",
    "#creates regression line for X and Y\n",
    "regressor = LinearRegression().fit(X, Y)\n",
    "\n",
    "#plots the values X and Y values, including the regression line\n",
    "plt.title(\"Relationship between Age and Medical Charges in Age Group 35-44\")\n",
    "plt.xlabel(\"age\")\n",
    "plt.ylabel(\"medical charges in dollars\")\n",
    "plt.scatter(X, Y, color = 'pink')\n",
    "plt.plot(X, regressor.predict(X), color = 'blue', linewidth = 1)\n",
    "plt.show()\n",
    "\n",
    "\n",
    "\n",
    "#CREATES SCATTER PLOT WITH REGRESSION LINE FOR AGES 45-54\n",
    "#the X contains the values of the age column and the Y contains the values of the charges column \n",
    "X = df_age_45_54[[\"age\"]]\n",
    "Y = df_age_45_54[[\"charges\"]]\n",
    "\n",
    "#creates regression line for X and Y\n",
    "regressor = LinearRegression().fit(X, Y)\n",
    "\n",
    "#plots the values X and Y values, including the regression line\n",
    "plt.title(\"Relationship between Age and Medical Charges in Age Group 45-54\")\n",
    "plt.xlabel(\"age\")\n",
    "plt.ylabel(\"medical charges in dollars\")\n",
    "plt.scatter(X, Y, color = 'green')\n",
    "plt.plot(X, regressor.predict(X), color = 'blue', linewidth = 1)\n",
    "plt.show()\n",
    "\n",
    "\n",
    "\n",
    "#CREATES SCATTER PLOT WITH REGRESSION LINE FOR AGES 55-64\n",
    "#the X contains the values of the age column and the Y contains the values of the charges column \n",
    "X = df_age_55_64[[\"age\"]]\n",
    "Y = df_age_55_64[[\"charges\"]]\n",
    "\n",
    "#creates regression line for X and Y\n",
    "regressor = LinearRegression().fit(X, Y)\n",
    "\n",
    "#plots the values X and Y values, including the regression line\n",
    "plt.title(\"Relationship between Age and Medical Charges in Age Group 55-64\")\n",
    "plt.xlabel(\"age\")\n",
    "plt.ylabel(\"medical charges in dollars\")\n",
    "plt.scatter(X, Y, color = 'purple')\n",
    "plt.plot(X, regressor.predict(X), color = 'blue', linewidth = 1)\n",
    "plt.show()"
   ]
  },
  {
   "cell_type": "markdown",
   "id": "62ec26b6",
   "metadata": {},
   "source": [
    "We can see that in all 5 of our graphs, there is some sort of positive linear trend. Next, let's do some hypothesis testing on our dataframes to see if we can reject the null hypothesis of no relationship between age groups and medical charges. "
   ]
  },
  {
   "cell_type": "markdown",
   "id": "bc030e3c",
   "metadata": {},
   "source": [
    "**HYPOTHESIS TESTING FOR AGES 18-24**"
   ]
  },
  {
   "cell_type": "code",
   "execution_count": 26,
   "id": "16ac9a66",
   "metadata": {},
   "outputs": [
    {
     "name": "stdout",
     "output_type": "stream",
     "text": [
      "0.12278995023071622\n"
     ]
    }
   ],
   "source": [
    "#the X contains the values of the age column and the Y contains the values of the charges column \n",
    "X = df_age_18_24[[\"age\"]]\n",
    "Y = df_age_18_24[[\"charges\"]]\n",
    "\n",
    "regressor = LinearRegression().fit(X, Y) \n",
    "\n",
    "#extracts and prints the p value from the OLS regression results\n",
    "X2 = sm.add_constant(X)\n",
    "est = sm.OLS(Y, X2)\n",
    "p_value = (est.fit().f_pvalue)\n",
    "print(p_value)\n"
   ]
  },
  {
   "cell_type": "markdown",
   "id": "7753e067",
   "metadata": {},
   "source": [
    "Here, we can see that the p-value is 0.12278995023071622. Since our p-value is greater than our significance level (0.05), we do not reject our null hypothesis. At a 0.05 significance level, there is insufficient evidence to support the claim that an increase in age in the age group (18-24) leads to an increase in medical charges. "
   ]
  },
  {
   "cell_type": "markdown",
   "id": "f4821cbf",
   "metadata": {},
   "source": [
    "**HYPOTHESIS TESTING FOR AGES 25-34**"
   ]
  },
  {
   "cell_type": "code",
   "execution_count": 27,
   "id": "d98167fe",
   "metadata": {},
   "outputs": [
    {
     "name": "stdout",
     "output_type": "stream",
     "text": [
      "0.2049936478089516\n"
     ]
    }
   ],
   "source": [
    "#the X contains the values of the age column and the Y contains the values of the charges column \n",
    "X = df_age_25_34[[\"age\"]]\n",
    "Y = df_age_25_34[[\"charges\"]]\n",
    "\n",
    "regressor = LinearRegression().fit(X, Y) \n",
    "\n",
    "#extracts and prints the p value from the OLS regression results\n",
    "X2 = sm.add_constant(X)\n",
    "est = sm.OLS(Y, X2)\n",
    "p_value = (est.fit().f_pvalue)\n",
    "print(p_value)\n"
   ]
  },
  {
   "cell_type": "markdown",
   "id": "98507b2c",
   "metadata": {},
   "source": [
    "Here, we can see that the p-value is 0.2049936478089516. Since our p-value is greater than our significance level (0.05), we again do not reject our null hypothesis. At a 0.05 significance level, there is insufficient evidence to support the claim that an increase in age in the age group (25-34) leads to an increase in medical charges."
   ]
  },
  {
   "cell_type": "markdown",
   "id": "bebaec1c",
   "metadata": {},
   "source": [
    "**HYPOTHESIS TESTING FOR AGES 35-44**"
   ]
  },
  {
   "cell_type": "code",
   "execution_count": 28,
   "id": "1c53a632",
   "metadata": {},
   "outputs": [
    {
     "name": "stdout",
     "output_type": "stream",
     "text": [
      "0.08713794775164492\n"
     ]
    }
   ],
   "source": [
    "#the X contains the values of the age column and the Y contains the values of the charges column \n",
    "X = df_age_35_44[[\"age\"]]\n",
    "Y = df_age_35_44[[\"charges\"]]\n",
    "\n",
    "regressor = LinearRegression().fit(X, Y) \n",
    "\n",
    "#extracts and prints the p value from the OLS regression results\n",
    "X2 = sm.add_constant(X)\n",
    "est = sm.OLS(Y, X2)\n",
    "p_value = (est.fit().f_pvalue)\n",
    "print(p_value)\n"
   ]
  },
  {
   "cell_type": "markdown",
   "id": "b1c35354",
   "metadata": {},
   "source": [
    "Here, we can see that the p-value is 0.08713794775164492. Since our p-value is greater than our significance level (0.05), we again do not reject our null hypothesis. At a 0.05 significance level, there is insufficient evidence to support the claim that an increase in age in the age group (35-44) leads to an increase in medical charges."
   ]
  },
  {
   "cell_type": "markdown",
   "id": "f02a4968",
   "metadata": {},
   "source": [
    "**HYPOTHESIS TESTING FOR AGES 45-54**"
   ]
  },
  {
   "cell_type": "code",
   "execution_count": 29,
   "id": "0550354d",
   "metadata": {},
   "outputs": [
    {
     "name": "stdout",
     "output_type": "stream",
     "text": [
      "0.16045606344333574\n"
     ]
    }
   ],
   "source": [
    "#the X contains the values of the age column and the Y contains the values of the charges column \n",
    "X = df_age_45_54[[\"age\"]]\n",
    "Y = df_age_45_54[[\"charges\"]]\n",
    "\n",
    "regressor = LinearRegression().fit(X, Y) \n",
    "\n",
    "#extracts and prints the p value from the OLS regression results\n",
    "X2 = sm.add_constant(X)\n",
    "est = sm.OLS(Y, X2)\n",
    "p_value = (est.fit().f_pvalue)\n",
    "print(p_value)\n"
   ]
  },
  {
   "cell_type": "markdown",
   "id": "dbddb819",
   "metadata": {},
   "source": [
    "Here, we can see that the p-value is 0.16045606344333574. Since our p-value is greater than our significance level (0.05), we again do not reject our null hypothesis. At a 0.05 significance level, there is insufficient evidence to support the claim that an increase in age in the age group (45-54) leads to an increase in medical charges."
   ]
  },
  {
   "cell_type": "markdown",
   "id": "e94b5c9a",
   "metadata": {},
   "source": [
    "**HYPOTHESIS TESTING FOR AGES 55-64**"
   ]
  },
  {
   "cell_type": "code",
   "execution_count": 30,
   "id": "dc08d503",
   "metadata": {},
   "outputs": [
    {
     "name": "stdout",
     "output_type": "stream",
     "text": [
      "0.0008515659180905003\n"
     ]
    }
   ],
   "source": [
    "#the X contains the values of the age column and the Y contains the values of the charges column \n",
    "X = df_age_55_64[[\"age\"]]\n",
    "Y = df_age_55_64[[\"charges\"]]\n",
    "\n",
    "regressor = LinearRegression().fit(X, Y) \n",
    "\n",
    "#extracts and prints the p value from the OLS regression results\n",
    "X2 = sm.add_constant(X)\n",
    "est = sm.OLS(Y, X2)\n",
    "p_value = (est.fit().f_pvalue)\n",
    "print(p_value)\n"
   ]
  },
  {
   "cell_type": "markdown",
   "id": "3c555adc",
   "metadata": {},
   "source": [
    "Here, we can see that the p-value is 0.0008515659180905003. Since our p-value is LESS than our significance level (0.05), we REJECT our null hypothesis. At a 0.05 significance level, there is sufficient evidence to support the claim that an increase in age in the age group (55-64) leads to an increase in medical charges.\n"
   ]
  },
  {
   "cell_type": "markdown",
   "id": "88b6a860",
   "metadata": {},
   "source": [
    "**Scatter Plot of Relationship between Age and Medical Charges for ALL AGES**\n",
    "\n",
    "Next, we want to see what happens when we _combine_ our data for _all age groups_. Is there a definite relationship between age and medical charges? Let's find out... "
   ]
  },
  {
   "cell_type": "code",
   "execution_count": 31,
   "id": "91dea4c6",
   "metadata": {},
   "outputs": [
    {
     "data": {
      "image/png": "[encoded data removed]",
      "text/plain": [
       "<Figure size 432x288 with 1 Axes>"
      ]
     },
     "metadata": {
      "needs_background": "light"
     },
     "output_type": "display_data"
    }
   ],
   "source": [
    "#CREATES SCATTER PLOT WITH REGRESSION LINE FOR ALL AGES\n",
    "\n",
    "#the X contains the values of the age column and the Y contains the values of the charges column \n",
    "X = df[[\"age\"]]\n",
    "Y = df[[\"charges\"]]\n",
    "\n",
    "#creates regression line for X and Y\n",
    "regressor = LinearRegression().fit(X, Y)\n",
    "\n",
    "#plots the values X and Y values, including the regression line\n",
    "plt.title(\"Relationship between Age and Medical Charges\")\n",
    "plt.xlabel(\"age\")\n",
    "plt.ylabel(\"medical charges in dollars\")\n",
    "plt.scatter(X, Y, color = 'purple')\n",
    "plt.plot(X, regressor.predict(X), color = 'blue', linewidth = 1)\n",
    "plt.show()"
   ]
  },
  {
   "cell_type": "markdown",
   "id": "1b1af75d",
   "metadata": {},
   "source": [
    "Now let's run the hypothesis test..."
   ]
  },
  {
   "cell_type": "code",
   "execution_count": 32,
   "id": "ba2ceed0",
   "metadata": {},
   "outputs": [
    {
     "name": "stdout",
     "output_type": "stream",
     "text": [
      "4.8866933317233075e-29\n"
     ]
    }
   ],
   "source": [
    "#HYPOTHESIS TESTING FOR all ages \n",
    "\n",
    "#the X contains the values of the age column and the Y contains the values of the charges column \n",
    "X = df[[\"age\"]]\n",
    "Y = df[[\"charges\"]]\n",
    "\n",
    "regressor = LinearRegression().fit(X, Y) \n",
    "\n",
    "#extracts and prints the p value from the OLS regression results\n",
    "X2 = sm.add_constant(X)\n",
    "est = sm.OLS(Y, X2)\n",
    "p_value = (est.fit().f_pvalue)\n",
    "print(p_value)"
   ]
  },
  {
   "cell_type": "markdown",
   "id": "87fc250e",
   "metadata": {},
   "source": [
    "The p-value is 4.8866933317233075e-29, a very small number. Since our p-value is LESS than our significance level (0.05), we REJECT our null hypothesis of no relationship between age and medical charges. At a 0.05 significance level, there is sufficient evidence to support the claim that an increase in age leads to an increase in medical charges."
   ]
  },
  {
   "cell_type": "code",
   "execution_count": null,
   "id": "d637a000",
   "metadata": {},
   "outputs": [],
   "source": []
  }
 ],
 "metadata": {
  "kernelspec": {
   "display_name": "Python 3 (ipykernel)",
   "language": "python",
   "name": "python3"
  },
  "language_info": {
   "codemirror_mode": {
    "name": "ipython",
    "version": 3
   },
   "file_extension": ".py",
   "mimetype": "text/x-python",
   "name": "python",
   "nbconvert_exporter": "python",
   "pygments_lexer": "ipython3",
   "version": "3.9.9"
  }
 },
 "nbformat": 4,
 "nbformat_minor": 5
}
